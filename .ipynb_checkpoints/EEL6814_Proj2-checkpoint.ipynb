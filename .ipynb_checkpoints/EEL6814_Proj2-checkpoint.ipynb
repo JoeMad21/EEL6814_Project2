{
 "cells": [
  {
   "cell_type": "markdown",
   "id": "3e713237",
   "metadata": {},
   "source": [
    "# Import Libraries/Packages"
   ]
  },
  {
   "cell_type": "code",
   "execution_count": 2,
   "id": "a835cf26",
   "metadata": {},
   "outputs": [],
   "source": [
    "import numpy as np\n",
    "\n",
    "from keras.models import Sequential  \n",
    "from keras.callbacks import EarlyStopping\n",
    "from keras.backend import clear_session\n",
    "\n",
    "from keras.layers import Dense, Dropout, Activation, Conv2D, MaxPooling2D, Flatten\n",
    "from tensorflow.keras import utils\n",
    "from tensorflow.keras.optimizers import SGD\n",
    "\n",
    "from sklearn.metrics import confusion_matrix, ConfusionMatrixDisplay, accuracy_score, precision_score, recall_score, f1_score"
   ]
  },
  {
   "cell_type": "markdown",
   "id": "c0045db4",
   "metadata": {},
   "source": [
    "# Part 1: Design an SAE"
   ]
  },
  {
   "cell_type": "code",
   "execution_count": null,
   "id": "20e29d1c",
   "metadata": {},
   "outputs": [],
   "source": [
    "bottle_width = 10"
   ]
  },
  {
   "cell_type": "code",
   "execution_count": null,
   "id": "4682ac54",
   "metadata": {},
   "outputs": [],
   "source": [
    "clear_session()\n",
    "enc_model = Sequential()\n",
    "enc_model.add(Dense(800, activation='relu'))\n",
    "enc_model.add(Dense(200, activation='relu'))\n",
    "enc_model.add(Dense(bottle_width, activation='relu'))\n",
    "model.summary()"
   ]
  },
  {
   "cell_type": "code",
   "execution_count": null,
   "id": "0f1d616e",
   "metadata": {},
   "outputs": [],
   "source": [
    "clear_session()\n",
    "dec_model = Sequential()\n",
    "dec_model.add(Dense(bottle_width, activation='relu'))\n",
    "dec_model.add(Dense(200, activation='relu'))\n",
    "dec_model.add(Dense(800, activation='relu'))\n",
    "model.summary()"
   ]
  },
  {
   "cell_type": "code",
   "execution_count": null,
   "id": "5760c53e",
   "metadata": {},
   "outputs": [],
   "source": []
  },
  {
   "cell_type": "code",
   "execution_count": null,
   "id": "725b2abd",
   "metadata": {},
   "outputs": [],
   "source": []
  },
  {
   "cell_type": "code",
   "execution_count": null,
   "id": "20c7d297",
   "metadata": {},
   "outputs": [],
   "source": []
  },
  {
   "cell_type": "code",
   "execution_count": null,
   "id": "48b76960",
   "metadata": {},
   "outputs": [],
   "source": []
  },
  {
   "cell_type": "code",
   "execution_count": null,
   "id": "9aab4f86",
   "metadata": {},
   "outputs": [],
   "source": []
  }
 ],
 "metadata": {
  "kernelspec": {
   "display_name": "Python 3 (ipykernel)",
   "language": "python",
   "name": "python3"
  },
  "language_info": {
   "codemirror_mode": {
    "name": "ipython",
    "version": 3
   },
   "file_extension": ".py",
   "mimetype": "text/x-python",
   "name": "python",
   "nbconvert_exporter": "python",
   "pygments_lexer": "ipython3",
   "version": "3.8.17"
  }
 },
 "nbformat": 4,
 "nbformat_minor": 5
}
